{
 "cells": [
  {
   "cell_type": "code",
   "execution_count": 1,
   "metadata": {},
   "outputs": [],
   "source": [
    "import numpy as np\n",
    "\n",
    "# SPCA libraries\n",
    "from SPCA import frameDiagnosticsBackend\n",
    "from SPCA import Photometry_Aperture as APhotometry\n",
    "from SPCA import Photometry_PSF as PSFPhotometry\n",
    "from SPCA import Photometry_Companion as CPhotometry\n",
    "from SPCA import Photometry_PLD as PLDPhotometry\n",
    "from SPCA.Photometry_Common import prepare_images"
   ]
  },
  {
   "cell_type": "code",
   "execution_count": 2,
   "metadata": {},
   "outputs": [
    {
     "data": {
      "text/plain": [
       "'3.8.9 (default, Jul 19 2021, 09:37:32) \\n[Clang 13.0.0 (clang-1300.0.27.3)]'"
      ]
     },
     "execution_count": 2,
     "metadata": {},
     "output_type": "execute_result"
    }
   ],
   "source": [
    "import sys\n",
    "sys.version"
   ]
  },
  {
   "cell_type": "code",
   "execution_count": 3,
   "metadata": {},
   "outputs": [],
   "source": [
    "# The names of all the planets you want analyzed (without spaces)\n",
    "planet = 'TOI-141b'#'CoRoT-2b'#'LHS1140b''CoRoT-2b-test'\n",
    "channel = 'ch2'\n",
    "\n",
    "# Were the data taken in subarray mode?\n",
    "subarray = True\n",
    "\n",
    "# The number of CPU threads you want to use for running photometry methods in parallel\n",
    "ncpu = 2\n",
    "\n",
    "#folder containing data from each planet\n",
    "basepath = '/Users/lisadang/Desktop/TOI-141b_debug/'"
   ]
  },
  {
   "cell_type": "markdown",
   "metadata": {},
   "source": [
    "## Parameters to set how you want your photometry done"
   ]
  },
  {
   "cell_type": "code",
   "execution_count": 4,
   "metadata": {},
   "outputs": [],
   "source": [
    "#################\n",
    "# General settings\n",
    "#################\n",
    "\n",
    "# Whether or not to bin data points together\n",
    "bin_data = True\n",
    "# Number of data points to bin together\n",
    "bin_size = 64\n",
    "\n",
    "# Do you want to oversample frames before performing aperture photometry?\n",
    "# Don't recommend a value larger than 2\n",
    "oversamp = False\n",
    "scale = 2\n",
    "\n",
    "# Do you want the frame diagnostics to automatically remove certain frames within a data cube?\n",
    "# Doesn't work for fullframe photometry!\n",
    "allowIgnoreFrames = [True, False]\n",
    "\n",
    "# The number of sigma a frame's median value must be off from the median frame in order to be added to ignore_frames\n",
    "nsigma = 4\n",
    "\n",
    "# An array-like object where each element is an array-like object with the RA and DEC coordinates of a nearby star which should be masked out when computing background subtraction.\n",
    "maskStars = None\n",
    "\n",
    "# Whether to use Aperture photometry, PSF photometry, or PLD photometry\n",
    "photometryMethods = ['Aperture','PSF', 'PLD']\n",
    "\n",
    "#################\n",
    "# The purpose of this stack is to remove artifacts from bad background subtraction from the Spitzer data pipeline\n",
    "# If set to True, the following option requires contacting someone from IPAC in order to get your correction stack.\n",
    "# In general, this stack doesn't significantly impact the results, so we have not implemented this ourselves.\n",
    "#################\n",
    "# If True, the correction stack must be in the folder basepath+'/Calibration'\n",
    "# The correction stack must also have the name format 'correction_stack_for_BCDs_that_used_SPITZER_I#_SDARK#'\n",
    "#    where # should be replaced with the channel number, and SDARK# should be replaced with a string that \n",
    "#    specifies which sdark file was used. This can be found within the cal directory if you downloaded that\n",
    "#    from SHA.\n",
    "addStacks = [False]\n",
    "\n",
    "#################\n",
    "# Settings for aperture photometry\n",
    "# Can leave untouched if not using aperture photometry; these settings would be ignored\n",
    "#################\n",
    "\n",
    "# Do you want to only save the best aperture photometry method?\n",
    "# This will save quite a bit of hard drive space\n",
    "onlyBest = True\n",
    "\n",
    "# Aperture radii to try\n",
    "radii = np.linspace(2.,6.,21,endpoint=True)\n",
    "\n",
    "# Aperture shape to try. Possible aperture shapes are 'Circular', 'Elliptical', 'Rectangular'\n",
    "shapes = ['Circular']\n",
    "\n",
    "# Aperture edges to try. Possible options are 'Exact' (pixels are weighted by the fraction that lies within the aperture), 'Hard' (pixel is only included if its centre is in the aperture), and 'Soft' (approximates exact)\n",
    "edges = ['Exact', 'Hard']\n",
    "\n",
    "# Whether or not to keep the aperture centred at the centroid (otherwise keeps centred at the middle of the subarray)\n",
    "moveCentroids = [True]\n",
    "\n",
    "# How wide should the boxcar filter be that smooths the raw data to select the best aperture\n",
    "highpassWidth = 5*64\n",
    "\n",
    "#################\n",
    "# Settings for PLD\n",
    "# Can leave untouched if not using PLD; these settings would be ignored\n",
    "#################\n",
    "\n",
    "# Size of PLD stamp to use (only 3 and 5 currently supported)\n",
    "stamp_sizes = [3, 5]"
   ]
  },
  {
   "cell_type": "code",
   "execution_count": 5,
   "metadata": {
    "scrolled": false
   },
   "outputs": [
    {
     "name": "stdout",
     "output_type": "stream",
     "text": [
      "Analysing ch2 for systematically bad frames...\n",
      "\tGetting frames... Sigma clipping... "
     ]
    },
    {
     "ename": "IndexError",
     "evalue": "invalid index to scalar variable.",
     "output_type": "error",
     "traceback": [
      "\u001b[0;31m---------------------------------------------------------------------------\u001b[0m",
      "\u001b[0;31mIndexError\u001b[0m                                Traceback (most recent call last)",
      "Input \u001b[0;32mIn [5]\u001b[0m, in \u001b[0;36m<cell line: 5>\u001b[0;34m()\u001b[0m\n\u001b[1;32m      6\u001b[0m \u001b[38;5;28;01mif\u001b[39;00m subarray \u001b[38;5;129;01mand\u001b[39;00m (\u001b[38;5;28;01mTrue\u001b[39;00m \u001b[38;5;129;01min\u001b[39;00m allowIgnoreFrames):\n\u001b[1;32m      7\u001b[0m     \u001b[38;5;66;03m# Perform frame diagnostics to figure out which frames within a datacube are consistently bad\u001b[39;00m\n\u001b[1;32m      8\u001b[0m     \u001b[38;5;28mprint\u001b[39m(\u001b[38;5;124m'\u001b[39m\u001b[38;5;124mAnalysing\u001b[39m\u001b[38;5;124m'\u001b[39m, channel, \u001b[38;5;124m'\u001b[39m\u001b[38;5;124mfor systematically bad frames...\u001b[39m\u001b[38;5;124m'\u001b[39m)\n\u001b[0;32m----> 9\u001b[0m     ignoreFrames \u001b[38;5;241m=\u001b[39m \u001b[43mframeDiagnosticsBackend\u001b[49m\u001b[38;5;241;43m.\u001b[39;49m\u001b[43mrun_diagnostics\u001b[49m\u001b[43m(\u001b[49m\u001b[43mplanet\u001b[49m\u001b[43m,\u001b[49m\u001b[43m \u001b[49m\u001b[43mchannel\u001b[49m\u001b[43m,\u001b[49m\u001b[43m \u001b[49m\u001b[43mAOR_snip\u001b[49m\u001b[43m,\u001b[49m\n\u001b[1;32m     10\u001b[0m \u001b[43m                                                           \u001b[49m\u001b[43mbasepath\u001b[49m\u001b[43m,\u001b[49m\u001b[43m \u001b[49m\u001b[43maddStack\u001b[49m\u001b[43m,\u001b[49m\u001b[43m \u001b[49m\u001b[43mhighpassWidth\u001b[49m\u001b[43m,\u001b[49m\u001b[43m \u001b[49m\u001b[43mnsigma\u001b[49m\u001b[43m,\u001b[49m\n\u001b[1;32m     11\u001b[0m \u001b[43m                                                           \u001b[49m\u001b[43mncpu\u001b[49m\u001b[43m,\u001b[49m\u001b[43m \u001b[49m\u001b[43mshowPlot\u001b[49m\u001b[38;5;241;43m=\u001b[39;49m\u001b[38;5;28;43;01mTrue\u001b[39;49;00m\u001b[43m,\u001b[49m\u001b[43m \u001b[49m\u001b[43msavePlot\u001b[49m\u001b[38;5;241;43m=\u001b[39;49m\u001b[38;5;28;43;01mTrue\u001b[39;49;00m\u001b[43m)\u001b[49m\n\u001b[1;32m     12\u001b[0m \u001b[38;5;28;01melse\u001b[39;00m:\n\u001b[1;32m     13\u001b[0m     ignoreFrames \u001b[38;5;241m=\u001b[39m []\n",
      "File \u001b[0;32m~/Desktop/GitHub/SPCA/SPCA/frameDiagnosticsBackend.py:30\u001b[0m, in \u001b[0;36mrun_diagnostics\u001b[0;34m(planet, channel, AOR_snip, basepath, addStack, highpassWidth, nsigma, ncpu, showPlot, savePlot)\u001b[0m\n\u001b[1;32m     14\u001b[0m \u001b[38;5;124;03m\"\"\"Run frame diagnostics and choose which frames within a datacube are consistently bad and should be discarded.\u001b[39;00m\n\u001b[1;32m     15\u001b[0m \n\u001b[1;32m     16\u001b[0m \u001b[38;5;124;03mArgs:\u001b[39;00m\n\u001b[0;32m   (...)\u001b[0m\n\u001b[1;32m     26\u001b[0m \n\u001b[1;32m     27\u001b[0m \u001b[38;5;124;03m\"\"\"\u001b[39;00m\n\u001b[1;32m     29\u001b[0m \u001b[38;5;66;03m# get lightcurve, centroids, psf width, npp\u001b[39;00m\n\u001b[0;32m---> 30\u001b[0m flux, time, xo, yo, xw, yw, bg, npp \u001b[38;5;241m=\u001b[39m \u001b[43mget_lightcurve\u001b[49m\u001b[43m(\u001b[49m\u001b[43mbasepath\u001b[49m\u001b[43m,\u001b[49m\u001b[43m \u001b[49m\u001b[43mAOR_snip\u001b[49m\u001b[43m,\u001b[49m\u001b[43m \u001b[49m\u001b[43mchannel\u001b[49m\u001b[43m,\u001b[49m\u001b[43m \u001b[49m\u001b[43mplanet\u001b[49m\u001b[43m,\u001b[49m\n\u001b[1;32m     31\u001b[0m \u001b[43m                                                     \u001b[49m\u001b[43msave\u001b[49m\u001b[38;5;241;43m=\u001b[39;49m\u001b[38;5;28;43;01mFalse\u001b[39;49;00m\u001b[43m,\u001b[49m\u001b[43m \u001b[49m\u001b[43mbin_data\u001b[49m\u001b[38;5;241;43m=\u001b[39;49m\u001b[38;5;28;43;01mFalse\u001b[39;49;00m\u001b[43m,\u001b[49m\n\u001b[1;32m     32\u001b[0m \u001b[43m                                                     \u001b[49m\u001b[43mshowPlots\u001b[49m\u001b[38;5;241;43m=\u001b[39;49m\u001b[38;5;28;43;01mFalse\u001b[39;49;00m\u001b[43m,\u001b[49m\u001b[43m \u001b[49m\u001b[43msavePlots\u001b[49m\u001b[38;5;241;43m=\u001b[39;49m\u001b[38;5;28;43;01mFalse\u001b[39;49;00m\u001b[43m,\u001b[49m\n\u001b[1;32m     33\u001b[0m \u001b[43m                                                     \u001b[49m\u001b[43moversamp\u001b[49m\u001b[38;5;241;43m=\u001b[39;49m\u001b[38;5;28;43;01mFalse\u001b[39;49;00m\u001b[43m,\u001b[49m\u001b[43m \u001b[49m\u001b[43mr\u001b[49m\u001b[38;5;241;43m=\u001b[39;49m\u001b[43m[\u001b[49m\u001b[38;5;241;43m2.4\u001b[39;49m\u001b[43m]\u001b[49m\u001b[43m,\u001b[49m\u001b[43m \u001b[49m\u001b[43medges\u001b[49m\u001b[38;5;241;43m=\u001b[39;49m\u001b[43m[\u001b[49m\u001b[38;5;124;43m'\u001b[39;49m\u001b[38;5;124;43mexact\u001b[39;49m\u001b[38;5;124;43m'\u001b[39;49m\u001b[43m]\u001b[49m\u001b[43m,\u001b[49m\n\u001b[1;32m     34\u001b[0m \u001b[43m                                                     \u001b[49m\u001b[43maddStack\u001b[49m\u001b[38;5;241;43m=\u001b[39;49m\u001b[43maddStack\u001b[49m\u001b[43m,\u001b[49m\u001b[43m \u001b[49m\u001b[43mmoveCentroids\u001b[49m\u001b[38;5;241;43m=\u001b[39;49m\u001b[43m[\u001b[49m\u001b[38;5;28;43;01mTrue\u001b[39;49;00m\u001b[43m]\u001b[49m\u001b[43m,\u001b[49m\n\u001b[1;32m     35\u001b[0m \u001b[43m                                                     \u001b[49m\u001b[43mhighpassWidth\u001b[49m\u001b[38;5;241;43m=\u001b[39;49m\u001b[43mhighpassWidth\u001b[49m\u001b[43m,\u001b[49m\u001b[43m \u001b[49m\u001b[43mncpu\u001b[49m\u001b[38;5;241;43m=\u001b[39;49m\u001b[43mncpu\u001b[49m\u001b[43m)\u001b[49m[\u001b[38;5;241m0\u001b[39m]\u001b[38;5;241m.\u001b[39mT\n\u001b[1;32m     36\u001b[0m \u001b[38;5;66;03m# sigma clipping & reshape \u001b[39;00m\n\u001b[1;32m     37\u001b[0m \u001b[38;5;28;01mtry\u001b[39;00m:\n",
      "File \u001b[0;32m~/Desktop/GitHub/SPCA/SPCA/Photometry_Aperture.py:440\u001b[0m, in \u001b[0;36mget_lightcurve\u001b[0;34m(basepath, AOR_snip, channel, planet, save, onlyBest, highpassWidth, bin_data, bin_size, showPlots, savePlots, oversamp, scale, saveoversamp, reuse_oversamp, r, edges, addStack, ignoreFrames, maskStars, moveCentroids, ncpu, image_stack_input, bg, bg_err, time)\u001b[0m\n\u001b[1;32m    437\u001b[0m \u001b[38;5;28;01mglobal\u001b[39;00m image_stack\n\u001b[1;32m    438\u001b[0m \u001b[38;5;28;01mif\u001b[39;00m image_stack_input \u001b[38;5;129;01mis\u001b[39;00m \u001b[38;5;28;01mNone\u001b[39;00m:\n\u001b[1;32m    439\u001b[0m     \u001b[38;5;66;03m# Prepare all of the images\u001b[39;00m\n\u001b[0;32m--> 440\u001b[0m     image_stack, bg, bg_err, time \u001b[38;5;241m=\u001b[39m \u001b[43mprepare_images\u001b[49m\u001b[43m(\u001b[49m\u001b[43mbasepath\u001b[49m\u001b[43m,\u001b[49m\u001b[43m \u001b[49m\u001b[43mplanet\u001b[49m\u001b[43m,\u001b[49m\u001b[43m \u001b[49m\u001b[43mchannel\u001b[49m\u001b[43m,\u001b[49m\u001b[43m \u001b[49m\u001b[43mAOR_snip\u001b[49m\u001b[43m,\u001b[49m\u001b[43m \u001b[49m\u001b[43mignoreFrames\u001b[49m\u001b[43m,\u001b[49m\n\u001b[1;32m    441\u001b[0m \u001b[43m                                                   \u001b[49m\u001b[43moversamp\u001b[49m\u001b[43m,\u001b[49m\u001b[43m \u001b[49m\u001b[43mscale\u001b[49m\u001b[43m,\u001b[49m\u001b[43m \u001b[49m\u001b[43mreuse_oversamp\u001b[49m\u001b[43m,\u001b[49m\u001b[43m \u001b[49m\u001b[43msaveoversamp\u001b[49m\u001b[43m,\u001b[49m\n\u001b[1;32m    442\u001b[0m \u001b[43m                                                   \u001b[49m\u001b[43maddStack\u001b[49m\u001b[43m,\u001b[49m\u001b[43m \u001b[49m\u001b[43mmaskStars\u001b[49m\u001b[43m,\u001b[49m\u001b[43m \u001b[49m\u001b[43mncpu\u001b[49m\u001b[43m)\u001b[49m\n\u001b[1;32m    443\u001b[0m \u001b[38;5;28;01melse\u001b[39;00m:\n\u001b[1;32m    444\u001b[0m     image_stack \u001b[38;5;241m=\u001b[39m image_stack_input\n",
      "File \u001b[0;32m~/Desktop/GitHub/SPCA/SPCA/Photometry_Common.py:463\u001b[0m, in \u001b[0;36mprepare_images\u001b[0;34m(basepath, planet, channel, AOR_snip, ignoreFrames, oversamp, scale, reuse_oversamp, saveoversamp, addStack, maskStars, ncpu)\u001b[0m\n\u001b[1;32m    461\u001b[0m \u001b[38;5;28mprint\u001b[39m(\u001b[38;5;124m'\u001b[39m\u001b[38;5;124mSigma clipping... \u001b[39m\u001b[38;5;124m'\u001b[39m, end\u001b[38;5;241m=\u001b[39m\u001b[38;5;124m'\u001b[39m\u001b[38;5;124m'\u001b[39m, flush\u001b[38;5;241m=\u001b[39m\u001b[38;5;28;01mTrue\u001b[39;00m)\n\u001b[1;32m    462\u001b[0m \u001b[38;5;66;03m# sigma clip bad pixels along full time axis\u001b[39;00m\n\u001b[0;32m--> 463\u001b[0m image_stack \u001b[38;5;241m=\u001b[39m \u001b[43msigma_clipping\u001b[49m\u001b[43m(\u001b[49m\u001b[43mimage_stack\u001b[49m\u001b[43m,\u001b[49m\u001b[43m \u001b[49m\u001b[43msigma\u001b[49m\u001b[38;5;241;43m=\u001b[39;49m\u001b[38;5;241;43m5\u001b[39;49m\u001b[43m)\u001b[49m\n\u001b[1;32m    465\u001b[0m \u001b[38;5;28mprint\u001b[39m(\u001b[38;5;124m'\u001b[39m\u001b[38;5;124mSubtracting background... \u001b[39m\u001b[38;5;124m'\u001b[39m, end\u001b[38;5;241m=\u001b[39m\u001b[38;5;124m'\u001b[39m\u001b[38;5;124m'\u001b[39m, flush\u001b[38;5;241m=\u001b[39m\u001b[38;5;28;01mTrue\u001b[39;00m)\n\u001b[1;32m    466\u001b[0m \u001b[38;5;66;03m# background subtraction is done on global variable\u001b[39;00m\n",
      "File \u001b[0;32m~/Desktop/GitHub/SPCA/SPCA/Photometry_Common.py:217\u001b[0m, in \u001b[0;36msigma_clipping\u001b[0;34m(image_stack, bounds, sigma, maxiters)\u001b[0m\n\u001b[1;32m    212\u001b[0m             image_stack[:,i,j] \u001b[38;5;241m=\u001b[39m sigma_clip(image_stack[:,i,j]\u001b[38;5;241m.\u001b[39mflatten(), sigma\u001b[38;5;241m=\u001b[39msigma, iters\u001b[38;5;241m=\u001b[39mmaxiters,\n\u001b[1;32m    213\u001b[0m                                             cenfunc\u001b[38;5;241m=\u001b[39mnp\u001b[38;5;241m.\u001b[39mma\u001b[38;5;241m.\u001b[39mmedian, stdfunc\u001b[38;5;241m=\u001b[39mnp\u001b[38;5;241m.\u001b[39mma\u001b[38;5;241m.\u001b[39mstd)\n\u001b[1;32m    215\u001b[0m \u001b[38;5;66;03m# If any pixels near the target star are bad, mask the entire frame\u001b[39;00m\n\u001b[0;32m--> 217\u001b[0m image_stack[np\u001b[38;5;241m.\u001b[39many(\u001b[43mimage_stack\u001b[49m\u001b[38;5;241;43m.\u001b[39;49m\u001b[43mmask\u001b[49m\u001b[43m[\u001b[49m\u001b[43m:\u001b[49m\u001b[43m,\u001b[49m\u001b[43mlbx\u001b[49m\u001b[43m:\u001b[49m\u001b[43mubx\u001b[49m\u001b[43m,\u001b[49m\u001b[43mlby\u001b[49m\u001b[43m:\u001b[49m\u001b[43muby\u001b[49m\u001b[43m]\u001b[49m, axis\u001b[38;5;241m=\u001b[39m(\u001b[38;5;241m1\u001b[39m,\u001b[38;5;241m2\u001b[39m))] \u001b[38;5;241m=\u001b[39m np\u001b[38;5;241m.\u001b[39mma\u001b[38;5;241m.\u001b[39mmasked\n\u001b[1;32m    219\u001b[0m \u001b[38;5;28;01mreturn\u001b[39;00m image_stack\n",
      "\u001b[0;31mIndexError\u001b[0m: invalid index to scalar variable."
     ]
    }
   ],
   "source": [
    "#bit of AOR to pick out which folders contain AORs that should be analyzed\n",
    "with open(basepath+planet+'/analysis/aorSnippet.txt', 'r') as file:\n",
    "    AOR_snip = file.readline().strip()\n",
    "\n",
    "for addStack in addStacks:\n",
    "    if subarray and (True in allowIgnoreFrames):\n",
    "        # Perform frame diagnostics to figure out which frames within a datacube are consistently bad\n",
    "        print('Analysing', channel, 'for systematically bad frames...')\n",
    "        ignoreFrames = frameDiagnosticsBackend.run_diagnostics(planet, channel, AOR_snip,\n",
    "                                                               basepath, addStack, highpassWidth, nsigma,\n",
    "                                                               ncpu, showPlot=True, savePlot=True)\n",
    "    else:\n",
    "        ignoreFrames = []\n",
    "    \n",
    "    for allowIgnoreFrame in np.sort(allowIgnoreFrames)[::-1]:\n",
    "        if allowIgnoreFrame and len(ignoreFrames)!=0:\n",
    "            print('Using ignoreFrames')\n",
    "            ignoreFrames_temp = ignoreFrames\n",
    "        elif allowIgnoreFrame and (False in allowIgnoreFrames):\n",
    "            continue\n",
    "        else:\n",
    "            print('Trying no ignoreFrames')\n",
    "            ignoreFrames_temp = []\n",
    "            \n",
    "        image_stack, bg, bg_err, time = prepare_images(basepath, planet, channel, AOR_snip, ignoreFrames_temp,\n",
    "                                                       oversamp, scale, True, True,\n",
    "                                                       addStack, maskStars, ncpu)\n",
    "        \n",
    "        # Try all of the different photometry methods\n",
    "        for photometryMethod in photometryMethods:\n",
    "            if photometryMethod.lower()=='aperture':\n",
    "                print('Starting Aperture photometry!')\n",
    "                APhotometry.get_lightcurve(basepath, AOR_snip, channel, planet,\n",
    "                                           True, onlyBest, highpassWidth,\n",
    "                                           bin_data, bin_size, True, True,\n",
    "                                           oversamp, scale, True, True, radii, edges,\n",
    "                                           addStack, ignoreFrames_temp,\n",
    "                                           maskStars, moveCentroids, ncpu, image_stack, bg, bg_err, time)\n",
    "\n",
    "            elif photometryMethod.lower()=='psf':\n",
    "                print('Starting PSF photometry!')\n",
    "                PSFPhotometry.get_lightcurve(basepath, AOR_snip, channel, planet,\n",
    "                                             True, highpassWidth, bin_data, bin_size, True, True,\n",
    "                                             oversamp, scale, True, True,\n",
    "                                             addStack, ignoreFrames_temp,\n",
    "                                             maskStars, ncpu, image_stack, bg, bg_err, time)\n",
    "\n",
    "            elif photometryMethod.lower()=='pld':\n",
    "                print('Starting PLD photometry!')\n",
    "                PLDPhotometry.get_lightcurve(basepath, AOR_snip, channel, planet,\n",
    "                                             stamp_sizes, True, highpassWidth, bin_data, bin_size,\n",
    "                                             True, True, addStack, ignoreFrames_temp,\n",
    "                                             maskStars, ncpu, image_stack, bg, bg_err, time)\n",
    "                if ignoreFrames_temp==ignoreFrames:\n",
    "                    # Write down what frames should be ignored in case not doing PLDAper\n",
    "                    with open(basepath+planet+'/analysis/'+channel+'/PLD_ignoreFrames.txt', 'w') as file:\n",
    "                        file.write('IgnoreFrames = '+str(ignoreFrames)[1:-1]+'\\n')\n",
    "            \n",
    "print('Done!')"
   ]
  },
  {
   "cell_type": "code",
   "execution_count": null,
   "metadata": {},
   "outputs": [],
   "source": []
  }
 ],
 "metadata": {
  "kernelspec": {
   "display_name": "Python 3 (ipykernel)",
   "language": "python",
   "name": "python3"
  },
  "language_info": {
   "codemirror_mode": {
    "name": "ipython",
    "version": 3
   },
   "file_extension": ".py",
   "mimetype": "text/x-python",
   "name": "python",
   "nbconvert_exporter": "python",
   "pygments_lexer": "ipython3",
   "version": "3.8.9"
  }
 },
 "nbformat": 4,
 "nbformat_minor": 2
}
